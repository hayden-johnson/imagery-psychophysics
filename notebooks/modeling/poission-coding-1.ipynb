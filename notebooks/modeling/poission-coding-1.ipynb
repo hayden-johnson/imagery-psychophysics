{
 "cells": [
  {
   "cell_type": "code",
   "execution_count": 1,
   "id": "790b2c01-c4c5-49df-977e-4745c4b5fdfd",
   "metadata": {},
   "outputs": [],
   "source": [
    "from scipy import special\n",
    "import numpy as np \n",
    "import matplotlib.pyplot as plt\n",
    "from units import *"
   ]
  },
  {
   "cell_type": "code",
   "execution_count": 2,
   "id": "4095aa6a-38da-4951-8a67-c4cfbc4f09bf",
   "metadata": {},
   "outputs": [],
   "source": [
    "#SI base units\n",
    "s = 1\n",
    "kg = 1\n",
    "m = 1\n",
    "A = 1\n",
    "\n",
    "#derived units\n",
    "S = s**3*A**2/(kg*m**2)\n",
    "V = kg*m**2*s**-3*A**-1\n",
    "F = s**4 * A**2 * m**-2 * kg ** -1\n",
    "Hz = 1/s\n",
    "\n",
    "#with prefixes\n",
    "nS = 1e-9 * S\n",
    "uS = 1e-6 * S\n",
    "mV = 1e-3 * V\n",
    "pF = 1e-12 * F\n",
    "ms = 1e-3 * s\n",
    "\n",
    "rate = 10 * Hz    # spike rate\n",
    "bin_size = 1 * ms # bin size \n",
    "tmax = 1 * s      # the total length of the spike train"
   ]
  },
  {
   "cell_type": "code",
   "execution_count": 3,
   "id": "95ff0646-a94a-4d88-859c-963e59037a4b",
   "metadata": {},
   "outputs": [],
   "source": [
    "def homogeneous_poisson(rate, tmax, bin_size):\n",
    "    nbins = np.floor(tmax/bin_size).astype(int)\n",
    "    prob_of_spike = rate * bin_size\n",
    "    spikes = np.random.rand(nbins) < prob_of_spike\n",
    "    return spikes * 1"
   ]
  },
  {
   "cell_type": "code",
   "execution_count": 4,
   "id": "a3f4a975-a8e7-4555-8269-658f6c2077c9",
   "metadata": {},
   "outputs": [
    {
     "data": {
      "text/plain": [
       "Text(0.5, 0, 'time (s)')"
      ]
     },
     "execution_count": 4,
     "metadata": {},
     "output_type": "execute_result"
    },
    {
     "data": {
      "image/png": "[encoded data removed]",
      "text/plain": [
       "<Figure size 432x288 with 1 Axes>"
      ]
     },
     "metadata": {
      "needs_background": "light"
     },
     "output_type": "display_data"
    }
   ],
   "source": [
    "spikes_poisson = homogeneous_poisson(rate, tmax, bin_size)\n",
    "time = np.arange(len(spikes_poisson)) * bin_size\n",
    "plt.plot(time, spikes_poisson)\n",
    "plt.xlabel('time (s)')\n",
    "     "
   ]
  },
  {
   "cell_type": "code",
   "execution_count": 5,
   "id": "4c706708-035a-4d06-b6d1-f3e7d2c5ae52",
   "metadata": {},
   "outputs": [],
   "source": [
    "def homogeneous_poisson_generator(n_trials, rate, tmax, bin_size):\n",
    "    for i in range(n_trials):\n",
    "        yield homogeneous_poisson(rate, tmax, bin_size)"
   ]
  },
  {
   "cell_type": "code",
   "execution_count": 6,
   "id": "f52b0ced-c762-4fc5-b2e5-a7f5b2515f7a",
   "metadata": {},
   "outputs": [],
   "source": [
    "spike_trains = list(homogeneous_poisson_generator(1000, rate, tmax, bin_size))"
   ]
  },
  {
   "cell_type": "code",
   "execution_count": 7,
   "id": "e43780b0-f479-4608-bd0d-f061719d47a4",
   "metadata": {},
   "outputs": [],
   "source": [
    "n_spikes = [np.sum(sp) for sp in homogeneous_poisson_generator(1000, rate, tmax, bin_size)] "
   ]
  },
  {
   "cell_type": "code",
   "execution_count": 8,
   "id": "5cfbb575-4670-4efe-8584-7c011a98e85f",
   "metadata": {},
   "outputs": [
    {
     "data": {
      "text/plain": [
       "Text(0, 0.5, 'number of realisations')"
      ]
     },
     "execution_count": 8,
     "metadata": {},
     "output_type": "execute_result"
    },
    {
     "data": {
      "image/png": "[encoded data removed]",
      "text/plain": [
       "<Figure size 432x288 with 1 Axes>"
      ]
     },
     "metadata": {
      "needs_background": "light"
     },
     "output_type": "display_data"
    }
   ],
   "source": [
    "n_spikes = np.array(n_spikes)\n",
    "bin_edges =  np.arange(n_spikes.max() + 1) - 0.5\n",
    "plt.hist(n_spikes, bin_edges);\n",
    "plt.xlabel('spike counts')\n",
    "plt.ylabel('number of realisations')\n"
   ]
  },
  {
   "cell_type": "code",
   "execution_count": 9,
   "id": "59c2b6fa-f760-4474-9999-c5cd156f69fc",
   "metadata": {},
   "outputs": [
    {
     "name": "stdout",
     "output_type": "stream",
     "text": [
      "Mean: 10.1\n",
      "Variance: 10.2\n",
      "Rate * train length: 10.0\n"
     ]
    }
   ],
   "source": [
    "print(\"Mean: {:.1f}\".format(n_spikes.mean()))\n",
    "print(\"Variance: {:.1f}\".format(n_spikes.var()))\n",
    "print(\"Rate * train length: {:.1f}\".format(rate * tmax))\n",
    "     "
   ]
  },
  {
   "cell_type": "code",
   "execution_count": 10,
   "id": "aea53a4d-3524-4dfe-bc91-df47bf7368d0",
   "metadata": {},
   "outputs": [
    {
     "name": "stdout",
     "output_type": "stream",
     "text": [
      "Fano factor: 1.0\n"
     ]
    }
   ],
   "source": [
    "ff = np.var(n_spikes)/np.mean(n_spikes)\n",
    "print(\"Fano factor: {:.1f}\".format(ff))\n",
    "     "
   ]
  },
  {
   "cell_type": "code",
   "execution_count": 11,
   "id": "9333e2fe-0096-46e9-b0b4-af2b473e8eeb",
   "metadata": {},
   "outputs": [],
   "source": [
    "def poisson_prob(k, lam):\n",
    "    return lam**k/special.factorial(k)*np.exp(-lam)"
   ]
  },
  {
   "cell_type": "code",
   "execution_count": 12,
   "id": "91924dc3-96f2-46f6-8166-6def6acc57e2",
   "metadata": {},
   "outputs": [
    {
     "data": {
      "image/png": "[encoded data removed]",
      "text/plain": [
       "<Figure size 432x288 with 1 Axes>"
      ]
     },
     "metadata": {
      "needs_background": "light"
     },
     "output_type": "display_data"
    }
   ],
   "source": [
    "lam = rate * tmax\n",
    "k = bin_edges + 0.5\n",
    "prob = poisson_prob(k, lam)\n",
    "plt.plot(k, prob, drawstyle='steps-mid');"
   ]
  },
  {
   "cell_type": "code",
   "execution_count": 13,
   "id": "a622f861-3f72-4005-bcef-4f471d94bb66",
   "metadata": {},
   "outputs": [
    {
     "data": {
      "image/png": "[encoded data removed]",
      "text/plain": [
       "<Figure size 288x216 with 1 Axes>"
      ]
     },
     "metadata": {
      "needs_background": "light"
     },
     "output_type": "display_data"
    }
   ],
   "source": [
    "fig, ax = plt.subplots(figsize=(4, 3))\n",
    "\n",
    "ax.hist(n_spikes, bin_edges, density=True, alpha=.3)\n",
    "ax.plot(k, prob, drawstyle='steps-mid', c='r')\n",
    "ax.set_xlabel('number of spikes')\n",
    "ax.set_ylabel('probability')\n",
    "\n",
    "plt.show()"
   ]
  },
  {
   "cell_type": "code",
   "execution_count": 14,
   "id": "3e4092b6-ba33-47f0-8cb8-fdde9c382b2d",
   "metadata": {},
   "outputs": [
    {
     "data": {
      "image/png": "[encoded data removed]",
      "text/plain": [
       "<Figure size 288x288 with 1 Axes>"
      ]
     },
     "metadata": {
      "needs_background": "light"
     },
     "output_type": "display_data"
    }
   ],
   "source": [
    "def generate_rf_grid(n, low, high):\n",
    "    step = (high-low) / (n)\n",
    "    start = low + step\n",
    "    stop = high \n",
    "    grid = []\n",
    "    for x in np.linspace(low, high, num=n+2)[1:-1]:\n",
    "        for y in np.linspace(low, high, num=n+2)[1:-1]:\n",
    "            grid.append([x, y])\n",
    "            \n",
    "    return np.array(grid)\n",
    "            \n",
    "grid = generate_rf_grid(10, -1, 1)\n",
    "\n",
    "fig, ax = plt.subplots(figsize=(4,4))\n",
    "ax.scatter(grid[:,0], grid[:,1])\n",
    "ax.set_xlim(-1, 1)\n",
    "ax.set_ylim(-1, 1)\n",
    "plt.show()"
   ]
  },
  {
   "cell_type": "code",
   "execution_count": 108,
   "id": "7920dc38-a59d-4846-acbf-8f53cd179d23",
   "metadata": {},
   "outputs": [],
   "source": [
    "## gaussian rf fuction\n",
    "def gaussian_rf(x, y, strength, spread):\n",
    "    dist = np.linalg.norm(x-y)\n",
    "    return strength * np.exp(-(dist)**2 / (2*(spread**2)))\n",
    "\n",
    "def encoder(stim_loc, rf_grid, strength=1, spread=.1, noise_rate=.1, scale=10):\n",
    "    signal = np.array([gaussian_rf(rf_loc, stim_loc, strength, spread) for rf_loc in rf_grid])\n",
    "    noise = np.ones(len(signal)) * noise_rate\n",
    "    lam = signal + noise\n",
    "    lam /= lam.sum() # normalize\n",
    "    return lam * scale"
   ]
  },
  {
   "cell_type": "code",
   "execution_count": 91,
   "id": "3443bdd6-b2fe-44dc-beb5-01988a62eec6",
   "metadata": {},
   "outputs": [
    {
     "data": {
      "image/png": "[encoded data removed]",
      "text/plain": [
       "<Figure size 360x288 with 2 Axes>"
      ]
     },
     "metadata": {
      "needs_background": "light"
     },
     "output_type": "display_data"
    }
   ],
   "source": [
    "X = np.zeros((100, 100, 2))\n",
    "for i,x in enumerate(np.linspace(-1, 1, 100)):\n",
    "    for j,y in enumerate(np.linspace(-1, 1, 100)):\n",
    "        X[i, j, 0] =  x\n",
    "        X[i, j, 1] = y\n",
    "\n",
    "n = 5\n",
    "low, high = -1, 1\n",
    "rf_grid = generate_rf_grid(n, low, high)\n",
    "\n",
    "strength, spread = 5, .1\n",
    "field = np.zeros((100, 100))\n",
    "for i in range(100):\n",
    "    for j in range(100):\n",
    "        activation = np.array([gaussian_rf(X[i,j], y, strength, spread) for y in rf_grid])\n",
    "        field[i][j] = activation.sum()\n",
    "    \n",
    "    \n",
    "    \n",
    "fig, ax = plt.subplots(figsize=(5, 4))\n",
    "sns.heatmap(field, ax=ax)\n",
    "\n",
    "plt.show()"
   ]
  },
  {
   "cell_type": "code",
   "execution_count": 155,
   "id": "4085a6a7-522f-433c-a12b-32f78aff95bd",
   "metadata": {},
   "outputs": [
    {
     "data": {
      "image/png": "[encoded data removed]",
      "text/plain": [
       "<Figure size 1440x360 with 6 Axes>"
      ]
     },
     "metadata": {
      "needs_background": "light"
     },
     "output_type": "display_data"
    }
   ],
   "source": [
    "strength = 5\n",
    "spread = .25\n",
    "noise_rate = 7\n",
    "scale=10\n",
    "\n",
    "stim = np.array([-.4, -.325])\n",
    "lam = encoder(stim, rf_grid, strength=strength, spread=spread, noise_rate=noise_rate, scale=scale)\n",
    "\n",
    "bin_size = 1 * ms # bin size \n",
    "tmax = 3 * s      # the total length of the spike train\n",
    "\n",
    "avg_spikes = np.zeros(len(lam))\n",
    "for i,rate in enumerate(lam):\n",
    "    n_spikes = [np.sum(sp) for sp in homogeneous_poisson_generator(100, rate, tmax, bin_size)]\n",
    "    avg_spikes[i] = np.mean(n_spikes)\n",
    "\n",
    "avg_spikes_rounded = np.round(avg_spikes - avg_spikes.mean()).astype('int')\n",
    "avg_spikes_rounded[avg_spikes_rounded < 0] = 0\n",
    "\n",
    "\n",
    "\n",
    "    \n",
    "fig, ax = plt.subplots(figsize=(20,5), ncols=3)\n",
    "s = int(np.sqrt(len(lam)))\n",
    "sns.heatmap(np.reshape(lam, (s,s)), ax=ax[0])\n",
    "sns.heatmap(np.reshape(avg_spikes, (s,s)), ax=ax[1])\n",
    "sns.heatmap(np.reshape(avg_spikes_rounded, (s,s)), ax=ax[2])\n",
    "\n",
    "\n",
    "ax[0].set_title('lambda')\n",
    "ax[1].set_title('avg spike counts')\n",
    "\n",
    "plt.show()"
   ]
  },
  {
   "cell_type": "code",
   "execution_count": 156,
   "id": "5c31753a-080d-46ba-a41e-347d1f1d053c",
   "metadata": {},
   "outputs": [
    {
     "data": {
      "image/png": "[encoded data removed]",
      "text/plain": [
       "<Figure size 288x288 with 1 Axes>"
      ]
     },
     "metadata": {
      "needs_background": "light"
     },
     "output_type": "display_data"
    }
   ],
   "source": [
    "obs = np.ones((int(avg_spikes_rounded.sum()), 2))\n",
    "\n",
    "count = 0\n",
    "for xy, n in zip(rf_grid, avg_spikes_rounded):\n",
    "    for _ in range(n):\n",
    "        obs[count] = xy\n",
    "        count +=1\n",
    "        \n",
    "fig, ax = plt.subplots(figsize=(4, 4))\n",
    "ax.scatter(obs[:,0], obs[:,1])\n",
    "ax.set_xlim([-1,1])\n",
    "ax.set_ylim([-1,1])\n",
    "\n",
    "plt.show()"
   ]
  },
  {
   "cell_type": "code",
   "execution_count": 157,
   "id": "70579176-a023-45a8-985d-b612a3194ee2",
   "metadata": {},
   "outputs": [
    {
     "data": {
      "image/png": "[encoded data removed]",
      "text/plain": [
       "<Figure size 288x288 with 1 Axes>"
      ]
     },
     "metadata": {
      "needs_background": "light"
     },
     "output_type": "display_data"
    }
   ],
   "source": [
    "from sklearn.mixture import GaussianMixture\n",
    "from matplotlib.patches import Ellipse\n",
    "\n",
    "def draw_ellipse(position, covariance, ax=None, **kwargs):\n",
    "    \"\"\"Draw an ellipse with a given position and covariance\"\"\"\n",
    "    ax = ax or plt.gca()\n",
    "    \n",
    "    # Convert covariance to principal axes\n",
    "    if covariance.shape == (2, 2):\n",
    "        U, s, Vt = np.linalg.svd(covariance)\n",
    "        angle = np.degrees(np.arctan2(U[1, 0], U[0, 0]))\n",
    "        width, height = 2 * np.sqrt(s)\n",
    "    else:\n",
    "        angle = 0\n",
    "        width, height = 2 * np.sqrt(covariance),2 * np.sqrt(covariance)\n",
    "    \n",
    "    # Draw the Ellipse\n",
    "    for nsig in range(1, 4):\n",
    "        ax.add_patch(Ellipse(position, nsig * width, nsig * height,\n",
    "                             angle, **kwargs))\n",
    "        \n",
    "def plot_gmm(gmm, X, label=True, ax=None):\n",
    "    ax = ax or plt.gca()\n",
    "    labels = gmm.fit(X).predict(X)\n",
    "    if label:\n",
    "        ax.scatter(X[:, 0], X[:, 1], c=labels, s=40, cmap='viridis', zorder=2, alpha=.05)\n",
    "    else:\n",
    "        ax.scatter(X[:, 0], X[:, 1], s=40, zorder=2, alpha=.05)\n",
    "    ax.axis('equal')\n",
    "    \n",
    "    w_factor = 0.2 / gmm.weights_.max()\n",
    "    for pos, covar, w in zip(gmm.means_, gmm.covariances_, gmm.weights_):\n",
    "        draw_ellipse(pos, covar, alpha=w * w_factor)\n",
    "        \n",
    "        \n",
    "gmm = GaussianMixture(n_components=1, covariance_type='spherical').fit(obs)\n",
    "\n",
    "fig, ax = plt.subplots(figsize=(4, 4))\n",
    "plot_gmm(gmm, obs, ax=ax)\n",
    "\n",
    "\n",
    "ax.set_xlim([-1,1])\n",
    "ax.set_ylim([-1,1])\n",
    "plt.show()"
   ]
  },
  {
   "cell_type": "code",
   "execution_count": 158,
   "id": "6646fdce-b79e-4a88-a9ce-0d99ebd1d7bd",
   "metadata": {},
   "outputs": [
    {
     "data": {
      "image/png": "[encoded data removed]",
      "text/plain": [
       "<Figure size 288x288 with 1 Axes>"
      ]
     },
     "metadata": {
      "needs_background": "light"
     },
     "output_type": "display_data"
    }
   ],
   "source": [
    "mean = gmm.means_[0]\n",
    "\n",
    "fig, ax = plt.subplots(figsize=(4,4))\n",
    "ax.scatter(mean[0], mean[1], c='blue', alpha=.2, label='estimated mean')\n",
    "ax.scatter(stim[0], stim[1], c='red', alpha=.2, label='true mean')\n",
    "\n",
    "ax.set_xlim((-1, 1))\n",
    "ax.set_ylim((-1, 1))\n",
    "\n",
    "plt.legend()\n",
    "plt.show()"
   ]
  },
  {
   "cell_type": "code",
   "execution_count": 58,
   "id": "f27d6e53-9f62-4a14-9e30-bb4303690dc2",
   "metadata": {},
   "outputs": [
    {
     "data": {
      "image/png": "[encoded data removed]",
      "text/plain": [
       "<Figure size 288x288 with 1 Axes>"
      ]
     },
     "metadata": {
      "needs_background": "light"
     },
     "output_type": "display_data"
    },
    {
     "data": {
      "text/plain": [
       "array([[-0.81818182, -0.81818182],\n",
       "       [-0.81818182, -0.63636364],\n",
       "       [-0.81818182, -0.45454545],\n",
       "       [-0.81818182, -0.27272727],\n",
       "       [-0.81818182, -0.09090909],\n",
       "       [-0.81818182,  0.09090909],\n",
       "       [-0.81818182,  0.27272727],\n",
       "       [-0.81818182,  0.45454545],\n",
       "       [-0.81818182,  0.63636364],\n",
       "       [-0.81818182,  0.81818182],\n",
       "       [-0.63636364, -0.81818182],\n",
       "       [-0.63636364, -0.63636364],\n",
       "       [-0.63636364, -0.45454545],\n",
       "       [-0.63636364, -0.27272727],\n",
       "       [-0.63636364, -0.09090909],\n",
       "       [-0.63636364,  0.09090909],\n",
       "       [-0.63636364,  0.27272727],\n",
       "       [-0.63636364,  0.45454545],\n",
       "       [-0.63636364,  0.63636364],\n",
       "       [-0.63636364,  0.81818182],\n",
       "       [-0.45454545, -0.81818182],\n",
       "       [-0.45454545, -0.63636364],\n",
       "       [-0.45454545, -0.45454545],\n",
       "       [-0.45454545, -0.27272727],\n",
       "       [-0.45454545, -0.09090909],\n",
       "       [-0.45454545,  0.09090909],\n",
       "       [-0.45454545,  0.27272727],\n",
       "       [-0.45454545,  0.45454545],\n",
       "       [-0.45454545,  0.63636364],\n",
       "       [-0.45454545,  0.81818182],\n",
       "       [-0.27272727, -0.81818182],\n",
       "       [-0.27272727, -0.63636364],\n",
       "       [-0.27272727, -0.45454545],\n",
       "       [-0.27272727, -0.27272727],\n",
       "       [-0.27272727, -0.09090909],\n",
       "       [-0.27272727,  0.09090909],\n",
       "       [-0.27272727,  0.27272727],\n",
       "       [-0.27272727,  0.45454545],\n",
       "       [-0.27272727,  0.63636364],\n",
       "       [-0.27272727,  0.81818182],\n",
       "       [-0.09090909, -0.81818182],\n",
       "       [-0.09090909, -0.63636364],\n",
       "       [-0.09090909, -0.45454545],\n",
       "       [-0.09090909, -0.27272727],\n",
       "       [-0.09090909, -0.09090909],\n",
       "       [-0.09090909,  0.09090909],\n",
       "       [-0.09090909,  0.27272727],\n",
       "       [-0.09090909,  0.45454545],\n",
       "       [-0.09090909,  0.63636364],\n",
       "       [-0.09090909,  0.81818182],\n",
       "       [ 0.09090909, -0.81818182],\n",
       "       [ 0.09090909, -0.63636364],\n",
       "       [ 0.09090909, -0.45454545],\n",
       "       [ 0.09090909, -0.27272727],\n",
       "       [ 0.09090909, -0.09090909],\n",
       "       [ 0.09090909,  0.09090909],\n",
       "       [ 0.09090909,  0.27272727],\n",
       "       [ 0.09090909,  0.45454545],\n",
       "       [ 0.09090909,  0.63636364],\n",
       "       [ 0.09090909,  0.81818182],\n",
       "       [ 0.27272727, -0.81818182],\n",
       "       [ 0.27272727, -0.63636364],\n",
       "       [ 0.27272727, -0.45454545],\n",
       "       [ 0.27272727, -0.27272727],\n",
       "       [ 0.27272727, -0.09090909],\n",
       "       [ 0.27272727,  0.09090909],\n",
       "       [ 0.27272727,  0.27272727],\n",
       "       [ 0.27272727,  0.45454545],\n",
       "       [ 0.27272727,  0.63636364],\n",
       "       [ 0.27272727,  0.81818182],\n",
       "       [ 0.45454545, -0.81818182],\n",
       "       [ 0.45454545, -0.63636364],\n",
       "       [ 0.45454545, -0.45454545],\n",
       "       [ 0.45454545, -0.27272727],\n",
       "       [ 0.45454545, -0.09090909],\n",
       "       [ 0.45454545,  0.09090909],\n",
       "       [ 0.45454545,  0.27272727],\n",
       "       [ 0.45454545,  0.45454545],\n",
       "       [ 0.45454545,  0.63636364],\n",
       "       [ 0.45454545,  0.81818182],\n",
       "       [ 0.63636364, -0.81818182],\n",
       "       [ 0.63636364, -0.63636364],\n",
       "       [ 0.63636364, -0.45454545],\n",
       "       [ 0.63636364, -0.27272727],\n",
       "       [ 0.63636364, -0.09090909],\n",
       "       [ 0.63636364,  0.09090909],\n",
       "       [ 0.63636364,  0.27272727],\n",
       "       [ 0.63636364,  0.45454545],\n",
       "       [ 0.63636364,  0.63636364],\n",
       "       [ 0.63636364,  0.81818182],\n",
       "       [ 0.81818182, -0.81818182],\n",
       "       [ 0.81818182, -0.63636364],\n",
       "       [ 0.81818182, -0.45454545],\n",
       "       [ 0.81818182, -0.27272727],\n",
       "       [ 0.81818182, -0.09090909],\n",
       "       [ 0.81818182,  0.09090909],\n",
       "       [ 0.81818182,  0.27272727],\n",
       "       [ 0.81818182,  0.45454545],\n",
       "       [ 0.81818182,  0.63636364],\n",
       "       [ 0.81818182,  0.81818182]])"
      ]
     },
     "execution_count": 58,
     "metadata": {},
     "output_type": "execute_result"
    }
   ],
   "source": [
    "def generate_rf_grid(n, low, high):\n",
    "    step = (high-low) / (n)\n",
    "    start = low + step\n",
    "    stop = high \n",
    "    grid = []\n",
    "    for x in np.linspace(low, high, num=n+2)[1:-1]:\n",
    "        for y in np.linspace(low, high, num=n+2)[1:-1]:\n",
    "            grid.append([x, y])\n",
    "            \n",
    "    return np.array(grid)\n",
    "            \n",
    "grid = generate_rf_grid(10, -1, 1)\n",
    "\n",
    "fig, ax = plt.subplots(figsize=(4,4))\n",
    "ax.scatter(grid[:,0], grid[:,1])\n",
    "ax.set_xlim(-1, 1)\n",
    "ax.set_ylim(-1, 1)\n",
    "plt.show()\n",
    "\n",
    "grid"
   ]
  },
  {
   "cell_type": "code",
   "execution_count": null,
   "id": "6f901103-d2bf-4da3-a772-1de5d2dc1f03",
   "metadata": {},
   "outputs": [],
   "source": []
  },
  {
   "cell_type": "code",
   "execution_count": 31,
   "id": "d5599ee4-3ee8-4402-b526-a1a0dfaca18b",
   "metadata": {},
   "outputs": [],
   "source": [
    "from src.core import make_knot_grid, make_curve, sample_knots\n",
    "from src.visualization import pretty_picture_of_curve_ax"
   ]
  },
  {
   "cell_type": "code",
   "execution_count": 35,
   "id": "1ffbe043-0d96-4596-8bc6-f59c294a222e",
   "metadata": {},
   "outputs": [
    {
     "data": {
      "text/plain": [
       "<matplotlib.collections.PathCollection at 0x7f37a29d7880>"
      ]
     },
     "execution_count": 35,
     "metadata": {},
     "output_type": "execute_result"
    },
    {
     "data": {
      "image/png": "[encoded data removed]",
      "text/plain": [
       "<Figure size 432x288 with 1 Axes>"
      ]
     },
     "metadata": {
      "needs_background": "light"
     },
     "output_type": "display_data"
    }
   ],
   "source": [
    "grid = make_knot_grid(2, -1, 1)\n",
    "plt.scatter(grid[:,0], grid[:,1])"
   ]
  },
  {
   "cell_type": "code",
   "execution_count": 32,
   "id": "1bf6def6-0877-431f-a2e8-e88ae6e969ad",
   "metadata": {},
   "outputs": [],
   "source": [
    "knot_grid = make_knot_grid(10, -1, 1)\n",
    "knots = sample_knots(knot_grid, 4)"
   ]
  },
  {
   "cell_type": "code",
   "execution_count": 28,
   "id": "91cd561d-d64e-4615-9c02-09f7efd8f62f",
   "metadata": {},
   "outputs": [
    {
     "ename": "NameError",
     "evalue": "name 'knot_grid' is not defined",
     "output_type": "error",
     "traceback": [
      "\u001b[0;31m---------------------------------------------------------------------------\u001b[0m",
      "\u001b[0;31mNameError\u001b[0m                                 Traceback (most recent call last)",
      "\u001b[0;32m<ipython-input-28-30331bb97d60>\u001b[0m in \u001b[0;36m<module>\u001b[0;34m\u001b[0m\n\u001b[0;32m----> 1\u001b[0;31m \u001b[0mknot_grid\u001b[0m\u001b[0;34m\u001b[0m\u001b[0;34m\u001b[0m\u001b[0m\n\u001b[0m",
      "\u001b[0;31mNameError\u001b[0m: name 'knot_grid' is not defined"
     ]
    }
   ],
   "source": [
    "knot_grid"
   ]
  },
  {
   "cell_type": "code",
   "execution_count": null,
   "id": "9eea685f-c3b5-44fc-a133-3a23eafce24a",
   "metadata": {},
   "outputs": [],
   "source": []
  },
  {
   "cell_type": "code",
   "execution_count": null,
   "id": "ffae67b1-a329-48dc-9d37-bc8b38e1366d",
   "metadata": {},
   "outputs": [],
   "source": []
  },
  {
   "cell_type": "code",
   "execution_count": 27,
   "id": "a1745670-762b-4ee9-baa2-75c2cbbe100c",
   "metadata": {},
   "outputs": [
    {
     "data": {
      "text/plain": [
       "array([ 6,  9, 13,  8,  4,  5,  7,  9, 11,  4,  4,  8, 12,  7, 11, 13, 15,\n",
       "        8,  7, 10, 10, 14,  9,  6, 16,  7,  5,  4, 12,  7, 10,  8,  7,  9,\n",
       "       10, 10, 12,  9,  5, 15, 11, 10,  9, 10, 19, 10, 18,  6,  9,  6, 15,\n",
       "       15, 10, 11, 14,  9,  8, 19, 10, 17, 10, 11, 16,  4,  8, 11, 14, 11,\n",
       "       17, 11, 11, 11,  6, 13, 12,  7,  5,  8, 10,  8, 10,  7, 13, 13,  8,\n",
       "        9, 13, 17, 10,  9,  8, 12, 15, 14,  8,  3,  9,  7, 10,  7, 10,  9,\n",
       "        7, 11,  9,  9, 18, 12, 11, 17, 13,  6,  5,  9,  7,  3, 17, 10,  9,\n",
       "       12, 14, 11, 10, 10, 10, 10, 12,  5, 12, 10,  7, 15,  7,  9, 11,  6,\n",
       "        9, 13,  8,  4, 16, 11,  8, 12, 10, 10,  9,  9, 10,  8,  9,  8,  6,\n",
       "       10,  9, 12,  9,  9,  8, 11, 10, 15, 11, 13,  9,  9, 10, 11, 12, 11,\n",
       "        7, 15, 10, 11,  5, 10,  6,  8,  6, 10, 14, 12, 10, 10,  9,  7, 11,\n",
       "        8,  8, 11, 14, 11,  8, 11,  8, 10,  4, 13,  7,  9,  9,  7, 10, 11,\n",
       "       14,  8, 17, 10, 15,  6, 13, 10, 10, 12, 10,  9,  9,  9,  6,  8,  6,\n",
       "        6,  7, 11,  5,  9, 13,  9, 17,  8, 12,  9,  5, 12,  6, 10,  8,  6,\n",
       "       13,  9,  8, 11,  9, 12,  9, 10,  7,  9, 10,  3,  4, 10,  8, 10, 10,\n",
       "        8,  5, 11, 15,  9,  8,  6,  9, 15,  8, 10,  7,  5, 17,  8,  8,  5,\n",
       "        7,  6,  4, 13, 13, 15, 12,  5, 10, 12,  8, 11,  9, 10,  9, 11,  9,\n",
       "        9, 12, 16,  9,  6,  9,  7,  6, 13, 12,  8, 14, 11,  4,  9, 11,  8,\n",
       "       12,  9, 14,  8,  8,  5, 12, 12,  8, 10, 15, 15, 13,  6,  8,  9,  6,\n",
       "       10, 11,  7, 12, 12,  9, 11,  7, 10, 16,  7,  8,  4, 10,  6, 15,  9,\n",
       "        8, 10,  8,  7,  8, 12, 10, 17,  9, 10, 17, 14,  9, 11,  9,  5, 10,\n",
       "       10,  9, 11, 14, 13, 13,  6, 10,  6, 11,  7,  5,  6, 10, 18, 11,  9,\n",
       "        7,  4, 10,  8, 10,  8, 13,  8,  5,  8, 14, 12, 11,  9,  9, 10, 15,\n",
       "       14, 13,  6,  9,  9,  9,  8, 16,  5,  7,  8, 13, 12,  9, 11,  7, 12,\n",
       "       14, 13, 14,  9, 17,  9,  8, 13,  6,  7, 10,  9, 15, 13, 13,  9,  9,\n",
       "        9,  9, 13, 10, 10, 10, 11, 12, 14, 14,  9, 10,  6, 14, 12, 16, 12,\n",
       "       12, 11,  9, 10, 10, 13, 10, 11, 11, 14, 15, 11,  8,  7,  6, 12, 19,\n",
       "        9, 17, 12, 12,  8, 10,  7,  9,  1, 15, 16,  5,  9,  8,  7, 12, 11,\n",
       "       13, 11, 11, 12,  9, 12, 12, 10,  9,  8, 17, 10, 12, 14,  7,  6,  7,\n",
       "        9,  6,  9, 14, 15,  5, 16, 14, 10, 11,  8, 18,  7, 11, 12,  7,  6,\n",
       "       10,  6, 10,  9, 10,  9,  5, 15, 13,  5,  4, 10, 11, 12, 14,  6,  7,\n",
       "       11,  7,  9,  7, 17, 11,  7, 14, 12,  7,  8,  9, 11, 16,  9, 11, 11,\n",
       "        7, 10,  4,  7, 13, 10, 10,  8,  9, 12,  3,  9, 13, 15, 13,  5,  7,\n",
       "        9,  8,  9,  8, 10,  4,  9,  8,  7,  7,  7, 19,  9,  9,  3,  5, 11,\n",
       "       12, 10,  8,  9,  7, 10, 13, 15,  9, 11,  6,  5, 14, 10, 17, 10,  8,\n",
       "        9,  6, 10,  5,  6, 16,  8, 11, 12,  9,  8, 11,  6,  6,  9,  6,  9,\n",
       "       10,  8, 16,  6,  6, 14, 10,  7,  8, 13,  6, 15, 10,  9,  8, 11,  6,\n",
       "        6, 13,  6, 11, 13, 14, 14, 18, 14, 13, 11, 12, 17, 13, 12, 12,  9,\n",
       "       13, 10, 13,  7, 15, 12, 11,  5, 19,  7, 11,  9, 14, 12, 14, 11,  8,\n",
       "        6,  9, 11, 10, 16,  5,  8,  8, 14,  7, 12, 13,  8, 13, 11, 12,  7,\n",
       "       12, 10,  6,  9, 12, 10, 20,  4, 12, 13, 14, 13,  9, 10,  9,  8, 10,\n",
       "        9,  8,  9, 10,  7,  9, 10,  8,  6,  8, 13, 13,  9,  7, 12, 11,  7,\n",
       "       10, 12, 11, 12,  4, 10, 10,  7,  7, 12, 11,  7, 16,  7, 11,  6, 17,\n",
       "        5,  7, 16,  6, 15,  4,  9,  9, 11,  8,  7, 14,  8, 18,  7, 14, 12,\n",
       "       16, 15,  6,  5,  6, 16,  9,  6, 11,  9, 10, 15, 11, 12,  9,  3,  5,\n",
       "       11, 10,  9, 12,  6, 10,  9, 12, 13,  9,  9, 12, 12,  4, 10,  8,  8,\n",
       "       15,  7, 10, 10, 12, 10,  8, 10, 12,  8, 12,  4, 12,  3,  9,  7,  7,\n",
       "        9,  9, 12, 17,  9,  9,  7,  8,  5,  5, 17, 10, 12,  8, 14,  8,  7,\n",
       "        7, 11,  9,  5, 13, 14, 10, 12, 12,  8, 10,  6,  6,  7, 14, 10,  9,\n",
       "       14, 12, 11, 10,  8, 15,  7,  7, 10,  8, 10, 15,  9, 10,  5,  8,  8,\n",
       "        7, 13, 10,  7,  9, 12, 11,  4,  9, 16,  7, 10, 12,  9, 11,  6,  9,\n",
       "       14, 10, 11,  6, 11,  6,  5, 10,  8, 10,  9, 12, 10, 11, 15,  9, 21,\n",
       "       10, 13,  7, 17,  6,  9, 14, 18,  7, 10,  7, 11, 14,  9, 12, 11, 13,\n",
       "       14, 13, 11, 10, 10, 10, 13, 12, 12,  7, 10,  7, 14, 12, 12, 12,  8,\n",
       "       14, 12, 15,  5,  7,  8, 14,  8, 13,  5,  8,  8, 11, 12,  7, 15, 12,\n",
       "       10,  5, 10,  8,  7, 12, 13, 13,  5, 18,  9,  7, 11, 16,  6,  7, 14,\n",
       "        7, 16, 11,  5,  5, 10, 12, 15,  9,  9, 17, 13,  9, 13,  8, 12,  8,\n",
       "        8, 12, 11, 10, 11, 14, 16, 15, 12, 10,  7, 13,  9, 10, 10,  6,  9,\n",
       "       11,  6,  8,  7,  7, 10, 10, 13, 16,  7, 13, 17, 16, 10])"
      ]
     },
     "execution_count": 27,
     "metadata": {},
     "output_type": "execute_result"
    }
   ],
   "source": [
    "n_spikes"
   ]
  },
  {
   "cell_type": "code",
   "execution_count": null,
   "id": "dcc35f65-e44d-4329-99f6-13d91d70e363",
   "metadata": {},
   "outputs": [],
   "source": []
  }
 ],
 "metadata": {
  "kernelspec": {
   "display_name": "Python 3",
   "language": "python",
   "name": "python3"
  },
  "language_info": {
   "codemirror_mode": {
    "name": "ipython",
    "version": 3
   },
   "file_extension": ".py",
   "mimetype": "text/x-python",
   "name": "python",
   "nbconvert_exporter": "python",
   "pygments_lexer": "ipython3",
   "version": "3.8.8"
  }
 },
 "nbformat": 4,
 "nbformat_minor": 5
}
